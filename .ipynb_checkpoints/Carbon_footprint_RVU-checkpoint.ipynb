{
 "cells": [
  {
   "cell_type": "code",
   "execution_count": 1,
   "metadata": {
    "id": "9i-Bl7Msfkdv"
   },
   "outputs": [],
   "source": [
    "import pandas as pd\n",
    "import matplotlib.pyplot as plt \n",
    "import seaborn as sns\n",
    "\n",
    "import numpy as np\n",
    "import scipy.stats as st"
   ]
  },
  {
   "cell_type": "code",
   "execution_count": 2,
   "metadata": {
    "colab": {
     "base_uri": "https://localhost:8080/",
     "height": 820
    },
    "executionInfo": {
     "elapsed": 500,
     "status": "ok",
     "timestamp": 1676777889782,
     "user": {
      "displayName": "Dyuthi Ramesh",
      "userId": "06482101832404421391"
     },
     "user_tz": -330
    },
    "id": "uAmR8u4HFx3q",
    "outputId": "4957af04-62f3-418a-99d4-96bdb43d6f34"
   },
   "outputs": [
    {
     "ename": "FileNotFoundError",
     "evalue": "[Errno 2] No such file or directory: 'carbon_footprint_survey.csv'",
     "output_type": "error",
     "traceback": [
      "\u001b[1;31m---------------------------------------------------------------------------\u001b[0m",
      "\u001b[1;31mFileNotFoundError\u001b[0m                         Traceback (most recent call last)",
      "\u001b[1;32m<ipython-input-2-7e179f83b4d1>\u001b[0m in \u001b[0;36m<module>\u001b[1;34m\u001b[0m\n\u001b[1;32m----> 1\u001b[1;33m \u001b[0mdf1\u001b[0m \u001b[1;33m=\u001b[0m \u001b[0mpd\u001b[0m\u001b[1;33m.\u001b[0m\u001b[0mread_csv\u001b[0m\u001b[1;33m(\u001b[0m\u001b[1;34m\"carbon_footprint_survey.csv\"\u001b[0m\u001b[1;33m)\u001b[0m\u001b[1;33m\u001b[0m\u001b[1;33m\u001b[0m\u001b[0m\n\u001b[0m\u001b[0;32m      2\u001b[0m \u001b[0mdf1\u001b[0m\u001b[1;33m.\u001b[0m\u001b[0mhead\u001b[0m\u001b[1;33m(\u001b[0m\u001b[1;33m)\u001b[0m\u001b[1;33m\u001b[0m\u001b[1;33m\u001b[0m\u001b[0m\n",
      "\u001b[1;32mC:\\ProgramData\\Anaconda3\\lib\\site-packages\\pandas\\io\\parsers.py\u001b[0m in \u001b[0;36mread_csv\u001b[1;34m(filepath_or_buffer, sep, delimiter, header, names, index_col, usecols, squeeze, prefix, mangle_dupe_cols, dtype, engine, converters, true_values, false_values, skipinitialspace, skiprows, skipfooter, nrows, na_values, keep_default_na, na_filter, verbose, skip_blank_lines, parse_dates, infer_datetime_format, keep_date_col, date_parser, dayfirst, cache_dates, iterator, chunksize, compression, thousands, decimal, lineterminator, quotechar, quoting, doublequote, escapechar, comment, encoding, dialect, error_bad_lines, warn_bad_lines, delim_whitespace, low_memory, memory_map, float_precision, storage_options)\u001b[0m\n\u001b[0;32m    608\u001b[0m     \u001b[0mkwds\u001b[0m\u001b[1;33m.\u001b[0m\u001b[0mupdate\u001b[0m\u001b[1;33m(\u001b[0m\u001b[0mkwds_defaults\u001b[0m\u001b[1;33m)\u001b[0m\u001b[1;33m\u001b[0m\u001b[1;33m\u001b[0m\u001b[0m\n\u001b[0;32m    609\u001b[0m \u001b[1;33m\u001b[0m\u001b[0m\n\u001b[1;32m--> 610\u001b[1;33m     \u001b[1;32mreturn\u001b[0m \u001b[0m_read\u001b[0m\u001b[1;33m(\u001b[0m\u001b[0mfilepath_or_buffer\u001b[0m\u001b[1;33m,\u001b[0m \u001b[0mkwds\u001b[0m\u001b[1;33m)\u001b[0m\u001b[1;33m\u001b[0m\u001b[1;33m\u001b[0m\u001b[0m\n\u001b[0m\u001b[0;32m    611\u001b[0m \u001b[1;33m\u001b[0m\u001b[0m\n\u001b[0;32m    612\u001b[0m \u001b[1;33m\u001b[0m\u001b[0m\n",
      "\u001b[1;32mC:\\ProgramData\\Anaconda3\\lib\\site-packages\\pandas\\io\\parsers.py\u001b[0m in \u001b[0;36m_read\u001b[1;34m(filepath_or_buffer, kwds)\u001b[0m\n\u001b[0;32m    460\u001b[0m \u001b[1;33m\u001b[0m\u001b[0m\n\u001b[0;32m    461\u001b[0m     \u001b[1;31m# Create the parser.\u001b[0m\u001b[1;33m\u001b[0m\u001b[1;33m\u001b[0m\u001b[1;33m\u001b[0m\u001b[0m\n\u001b[1;32m--> 462\u001b[1;33m     \u001b[0mparser\u001b[0m \u001b[1;33m=\u001b[0m \u001b[0mTextFileReader\u001b[0m\u001b[1;33m(\u001b[0m\u001b[0mfilepath_or_buffer\u001b[0m\u001b[1;33m,\u001b[0m \u001b[1;33m**\u001b[0m\u001b[0mkwds\u001b[0m\u001b[1;33m)\u001b[0m\u001b[1;33m\u001b[0m\u001b[1;33m\u001b[0m\u001b[0m\n\u001b[0m\u001b[0;32m    463\u001b[0m \u001b[1;33m\u001b[0m\u001b[0m\n\u001b[0;32m    464\u001b[0m     \u001b[1;32mif\u001b[0m \u001b[0mchunksize\u001b[0m \u001b[1;32mor\u001b[0m \u001b[0miterator\u001b[0m\u001b[1;33m:\u001b[0m\u001b[1;33m\u001b[0m\u001b[1;33m\u001b[0m\u001b[0m\n",
      "\u001b[1;32mC:\\ProgramData\\Anaconda3\\lib\\site-packages\\pandas\\io\\parsers.py\u001b[0m in \u001b[0;36m__init__\u001b[1;34m(self, f, engine, **kwds)\u001b[0m\n\u001b[0;32m    817\u001b[0m             \u001b[0mself\u001b[0m\u001b[1;33m.\u001b[0m\u001b[0moptions\u001b[0m\u001b[1;33m[\u001b[0m\u001b[1;34m\"has_index_names\"\u001b[0m\u001b[1;33m]\u001b[0m \u001b[1;33m=\u001b[0m \u001b[0mkwds\u001b[0m\u001b[1;33m[\u001b[0m\u001b[1;34m\"has_index_names\"\u001b[0m\u001b[1;33m]\u001b[0m\u001b[1;33m\u001b[0m\u001b[1;33m\u001b[0m\u001b[0m\n\u001b[0;32m    818\u001b[0m \u001b[1;33m\u001b[0m\u001b[0m\n\u001b[1;32m--> 819\u001b[1;33m         \u001b[0mself\u001b[0m\u001b[1;33m.\u001b[0m\u001b[0m_engine\u001b[0m \u001b[1;33m=\u001b[0m \u001b[0mself\u001b[0m\u001b[1;33m.\u001b[0m\u001b[0m_make_engine\u001b[0m\u001b[1;33m(\u001b[0m\u001b[0mself\u001b[0m\u001b[1;33m.\u001b[0m\u001b[0mengine\u001b[0m\u001b[1;33m)\u001b[0m\u001b[1;33m\u001b[0m\u001b[1;33m\u001b[0m\u001b[0m\n\u001b[0m\u001b[0;32m    820\u001b[0m \u001b[1;33m\u001b[0m\u001b[0m\n\u001b[0;32m    821\u001b[0m     \u001b[1;32mdef\u001b[0m \u001b[0mclose\u001b[0m\u001b[1;33m(\u001b[0m\u001b[0mself\u001b[0m\u001b[1;33m)\u001b[0m\u001b[1;33m:\u001b[0m\u001b[1;33m\u001b[0m\u001b[1;33m\u001b[0m\u001b[0m\n",
      "\u001b[1;32mC:\\ProgramData\\Anaconda3\\lib\\site-packages\\pandas\\io\\parsers.py\u001b[0m in \u001b[0;36m_make_engine\u001b[1;34m(self, engine)\u001b[0m\n\u001b[0;32m   1048\u001b[0m             )\n\u001b[0;32m   1049\u001b[0m         \u001b[1;31m# error: Too many arguments for \"ParserBase\"\u001b[0m\u001b[1;33m\u001b[0m\u001b[1;33m\u001b[0m\u001b[1;33m\u001b[0m\u001b[0m\n\u001b[1;32m-> 1050\u001b[1;33m         \u001b[1;32mreturn\u001b[0m \u001b[0mmapping\u001b[0m\u001b[1;33m[\u001b[0m\u001b[0mengine\u001b[0m\u001b[1;33m]\u001b[0m\u001b[1;33m(\u001b[0m\u001b[0mself\u001b[0m\u001b[1;33m.\u001b[0m\u001b[0mf\u001b[0m\u001b[1;33m,\u001b[0m \u001b[1;33m**\u001b[0m\u001b[0mself\u001b[0m\u001b[1;33m.\u001b[0m\u001b[0moptions\u001b[0m\u001b[1;33m)\u001b[0m  \u001b[1;31m# type: ignore[call-arg]\u001b[0m\u001b[1;33m\u001b[0m\u001b[1;33m\u001b[0m\u001b[0m\n\u001b[0m\u001b[0;32m   1051\u001b[0m \u001b[1;33m\u001b[0m\u001b[0m\n\u001b[0;32m   1052\u001b[0m     \u001b[1;32mdef\u001b[0m \u001b[0m_failover_to_python\u001b[0m\u001b[1;33m(\u001b[0m\u001b[0mself\u001b[0m\u001b[1;33m)\u001b[0m\u001b[1;33m:\u001b[0m\u001b[1;33m\u001b[0m\u001b[1;33m\u001b[0m\u001b[0m\n",
      "\u001b[1;32mC:\\ProgramData\\Anaconda3\\lib\\site-packages\\pandas\\io\\parsers.py\u001b[0m in \u001b[0;36m__init__\u001b[1;34m(self, src, **kwds)\u001b[0m\n\u001b[0;32m   1865\u001b[0m \u001b[1;33m\u001b[0m\u001b[0m\n\u001b[0;32m   1866\u001b[0m         \u001b[1;31m# open handles\u001b[0m\u001b[1;33m\u001b[0m\u001b[1;33m\u001b[0m\u001b[1;33m\u001b[0m\u001b[0m\n\u001b[1;32m-> 1867\u001b[1;33m         \u001b[0mself\u001b[0m\u001b[1;33m.\u001b[0m\u001b[0m_open_handles\u001b[0m\u001b[1;33m(\u001b[0m\u001b[0msrc\u001b[0m\u001b[1;33m,\u001b[0m \u001b[0mkwds\u001b[0m\u001b[1;33m)\u001b[0m\u001b[1;33m\u001b[0m\u001b[1;33m\u001b[0m\u001b[0m\n\u001b[0m\u001b[0;32m   1868\u001b[0m         \u001b[1;32massert\u001b[0m \u001b[0mself\u001b[0m\u001b[1;33m.\u001b[0m\u001b[0mhandles\u001b[0m \u001b[1;32mis\u001b[0m \u001b[1;32mnot\u001b[0m \u001b[1;32mNone\u001b[0m\u001b[1;33m\u001b[0m\u001b[1;33m\u001b[0m\u001b[0m\n\u001b[0;32m   1869\u001b[0m         \u001b[1;32mfor\u001b[0m \u001b[0mkey\u001b[0m \u001b[1;32min\u001b[0m \u001b[1;33m(\u001b[0m\u001b[1;34m\"storage_options\"\u001b[0m\u001b[1;33m,\u001b[0m \u001b[1;34m\"encoding\"\u001b[0m\u001b[1;33m,\u001b[0m \u001b[1;34m\"memory_map\"\u001b[0m\u001b[1;33m,\u001b[0m \u001b[1;34m\"compression\"\u001b[0m\u001b[1;33m)\u001b[0m\u001b[1;33m:\u001b[0m\u001b[1;33m\u001b[0m\u001b[1;33m\u001b[0m\u001b[0m\n",
      "\u001b[1;32mC:\\ProgramData\\Anaconda3\\lib\\site-packages\\pandas\\io\\parsers.py\u001b[0m in \u001b[0;36m_open_handles\u001b[1;34m(self, src, kwds)\u001b[0m\n\u001b[0;32m   1360\u001b[0m         \u001b[0mLet\u001b[0m \u001b[0mthe\u001b[0m \u001b[0mreaders\u001b[0m \u001b[0mopen\u001b[0m \u001b[0mIOHanldes\u001b[0m \u001b[0mafter\u001b[0m \u001b[0mthey\u001b[0m \u001b[0mare\u001b[0m \u001b[0mdone\u001b[0m \u001b[1;32mwith\u001b[0m \u001b[0mtheir\u001b[0m \u001b[0mpotential\u001b[0m \u001b[0mraises\u001b[0m\u001b[1;33m.\u001b[0m\u001b[1;33m\u001b[0m\u001b[1;33m\u001b[0m\u001b[0m\n\u001b[0;32m   1361\u001b[0m         \"\"\"\n\u001b[1;32m-> 1362\u001b[1;33m         self.handles = get_handle(\n\u001b[0m\u001b[0;32m   1363\u001b[0m             \u001b[0msrc\u001b[0m\u001b[1;33m,\u001b[0m\u001b[1;33m\u001b[0m\u001b[1;33m\u001b[0m\u001b[0m\n\u001b[0;32m   1364\u001b[0m             \u001b[1;34m\"r\"\u001b[0m\u001b[1;33m,\u001b[0m\u001b[1;33m\u001b[0m\u001b[1;33m\u001b[0m\u001b[0m\n",
      "\u001b[1;32mC:\\ProgramData\\Anaconda3\\lib\\site-packages\\pandas\\io\\common.py\u001b[0m in \u001b[0;36mget_handle\u001b[1;34m(path_or_buf, mode, encoding, compression, memory_map, is_text, errors, storage_options)\u001b[0m\n\u001b[0;32m    640\u001b[0m                 \u001b[0merrors\u001b[0m \u001b[1;33m=\u001b[0m \u001b[1;34m\"replace\"\u001b[0m\u001b[1;33m\u001b[0m\u001b[1;33m\u001b[0m\u001b[0m\n\u001b[0;32m    641\u001b[0m             \u001b[1;31m# Encoding\u001b[0m\u001b[1;33m\u001b[0m\u001b[1;33m\u001b[0m\u001b[1;33m\u001b[0m\u001b[0m\n\u001b[1;32m--> 642\u001b[1;33m             handle = open(\n\u001b[0m\u001b[0;32m    643\u001b[0m                 \u001b[0mhandle\u001b[0m\u001b[1;33m,\u001b[0m\u001b[1;33m\u001b[0m\u001b[1;33m\u001b[0m\u001b[0m\n\u001b[0;32m    644\u001b[0m                 \u001b[0mioargs\u001b[0m\u001b[1;33m.\u001b[0m\u001b[0mmode\u001b[0m\u001b[1;33m,\u001b[0m\u001b[1;33m\u001b[0m\u001b[1;33m\u001b[0m\u001b[0m\n",
      "\u001b[1;31mFileNotFoundError\u001b[0m: [Errno 2] No such file or directory: 'carbon_footprint_survey.csv'"
     ]
    }
   ],
   "source": [
    "df1 = pd.read_csv(\"carbon_footprint_survey.csv\")\n",
    "df1.head()"
   ]
  },
  {
   "cell_type": "code",
   "execution_count": null,
   "metadata": {
    "colab": {
     "base_uri": "https://localhost:8080/"
    },
    "executionInfo": {
     "elapsed": 667,
     "status": "ok",
     "timestamp": 1676777893552,
     "user": {
      "displayName": "Dyuthi Ramesh",
      "userId": "06482101832404421391"
     },
     "user_tz": -330
    },
    "id": "yJFq6HCTGQc6",
    "outputId": "9f8e273b-95c4-4623-cc8f-b2726c2fde28"
   },
   "outputs": [],
   "source": [
    "df1.columns"
   ]
  },
  {
   "cell_type": "code",
   "execution_count": null,
   "metadata": {
    "colab": {
     "base_uri": "https://localhost:8080/"
    },
    "executionInfo": {
     "elapsed": 8,
     "status": "ok",
     "timestamp": 1676777894737,
     "user": {
      "displayName": "Dyuthi Ramesh",
      "userId": "06482101832404421391"
     },
     "user_tz": -330
    },
    "id": "iHZAjKN3wjla",
    "outputId": "4ae09c8e-f6d5-413b-f715-e2bd94579596"
   },
   "outputs": [],
   "source": [
    "df1.info()"
   ]
  },
  {
   "cell_type": "code",
   "execution_count": null,
   "metadata": {
    "colab": {
     "base_uri": "https://localhost:8080/"
    },
    "executionInfo": {
     "elapsed": 9,
     "status": "ok",
     "timestamp": 1676777896336,
     "user": {
      "displayName": "Dyuthi Ramesh",
      "userId": "06482101832404421391"
     },
     "user_tz": -330
    },
    "id": "3V-NBJvRGkeH",
    "outputId": "a6bdbec0-7435-436a-8819-7856944c0651"
   },
   "outputs": [],
   "source": [
    "df1.shape"
   ]
  },
  {
   "cell_type": "code",
   "execution_count": null,
   "metadata": {
    "colab": {
     "base_uri": "https://localhost:8080/",
     "height": 1000
    },
    "executionInfo": {
     "elapsed": 11,
     "status": "ok",
     "timestamp": 1676777898039,
     "user": {
      "displayName": "Dyuthi Ramesh",
      "userId": "06482101832404421391"
     },
     "user_tz": -330
    },
    "id": "R-T3WeEMeD0p",
    "outputId": "250affff-1930-4598-e514-7b827de982e2"
   },
   "outputs": [],
   "source": [
    "df2 = df1.copy()\n",
    "df2.dropna() "
   ]
  },
  {
   "cell_type": "code",
   "execution_count": null,
   "metadata": {
    "colab": {
     "base_uri": "https://localhost:8080/"
    },
    "executionInfo": {
     "elapsed": 517,
     "status": "ok",
     "timestamp": 1676777901655,
     "user": {
      "displayName": "Dyuthi Ramesh",
      "userId": "06482101832404421391"
     },
     "user_tz": -330
    },
    "id": "JQ-lgIyAH_8H",
    "outputId": "ddf26c1a-9f76-40a1-ba8c-5b72e77e7d3c"
   },
   "outputs": [],
   "source": [
    "df2.shape"
   ]
  },
  {
   "cell_type": "code",
   "execution_count": null,
   "metadata": {
    "colab": {
     "base_uri": "https://localhost:8080/",
     "height": 1000
    },
    "executionInfo": {
     "elapsed": 9,
     "status": "ok",
     "timestamp": 1676777903399,
     "user": {
      "displayName": "Dyuthi Ramesh",
      "userId": "06482101832404421391"
     },
     "user_tz": -330
    },
    "id": "5Igp4OXmIEpu",
    "outputId": "fbe1e7d6-d330-4461-ec5e-d04d42e78320"
   },
   "outputs": [],
   "source": [
    "df2.columns = ['Timestamp', \n",
    "               'Email', \n",
    "               'Name', \n",
    "               'Designation',\n",
    "               'House_Members',\n",
    "               'Has_STAR_appliances',\n",
    "               'Use_Efficient_Bulbs',\n",
    "               'Shower_Usage',\n",
    "               'Load_Laundry',\n",
    "               'Turn_Lights_Off',\n",
    "               'Air_Conditioner',\n",
    "               'TV_Off_While_Unused',\n",
    "               'Daily_TV_Usage',\n",
    "               'Charger_Usage',\n",
    "               'Computer_Usage',\n",
    "               'Recycling',\n",
    "               'Plastic_Recycling',\n",
    "               'Wrapped_Food_Consumption',\n",
    "               'Diet',\n",
    "               'Fast_Food_Consumption',\n",
    "               'Transit_To_University',\n",
    "               'Car_Usage']\n",
    "df2"
   ]
  },
  {
   "cell_type": "code",
   "execution_count": null,
   "metadata": {
    "id": "fHQ9XfMUMNK4"
   },
   "outputs": [],
   "source": [
    "df2.House_Members = df2.House_Members.map({'1':0.05,\n",
    "                                           '2':0.1,\n",
    "                                           '3':0.2,\n",
    "                                           '4':0.39,\n",
    "                                           '5':0.78,\n",
    "                                           '6 or more':1.57})\n",
    "\n",
    "df2.Has_STAR_appliances = df2.Has_STAR_appliances.map({'Yes':-0.13, 'No':0.26, 'Not sure':0.19})\n",
    "\n",
    "df2.Use_Efficient_Bulbs = df2.Use_Efficient_Bulbs.map({'Yes':-0.21, 'No':0.43, 'Not sure':0.32})\n",
    "\n",
    "df2.Shower_Usage = df2.Shower_Usage.map({'1-2 times a day':1.43,\n",
    "                                         '3-4 times a day':3.33,\n",
    "                                         '5-6 times a day':5.23,\n",
    "                                         '7 or more times in one day':7.13})\n",
    "\n",
    "df2.Load_Laundry = df2.Load_Laundry.map({'1-2 times a week':0.4,\n",
    "                                         '3-4 times a week':0.8,\n",
    "                                         '5-6 times a week':1.2,\n",
    "                                         '7-8 times a week':1.6,\n",
    "                                         '9 or more times a week':2})\n",
    "\n",
    "df2.Turn_Lights_Off = df2.Turn_Lights_Off.map({'Yes':0, 'No':0.1})\n",
    "\n",
    "df2.Air_Conditioner = df2.Air_Conditioner.map({'None of the rooms':0,\n",
    "                                               '1-3 rooms':0.77,\n",
    "                                               '4 or more rooms':3.02})\n",
    "\n",
    "df2.TV_Off_While_Unused = df2.TV_Off_While_Unused.map({'Yes':0, 'No':0.02})\n",
    "\n",
    "df2.Daily_TV_Usage = df2.Daily_TV_Usage.map({'0-3 hours':0.01,\n",
    "                                             '4-6 hours':0.03,\n",
    "                                             '7-9 hours':0.04,\n",
    "                                             'More than 10 hours':0.06})\n",
    "\n",
    "df2.Charger_Usage = df2.Charger_Usage.map({'0':0,'1-2':0.02,'3-4':0.04,'5 or more':0.06})\n",
    "\n",
    "df2.Computer_Usage = df2.Computer_Usage.map({'0-2 hours':0,\n",
    "                                             '3-5 hours':0.0,\n",
    "                                             'more than 6 hours':0.02})\n",
    "\n",
    "df2.Recycling = df2.Recycling.map({'Yes':0, 'No':0.08, 'Not sure':0.04})\n",
    "\n",
    "df2.Plastic_Recycling = df2.Plastic_Recycling.map({'Yes':0, 'No':0.1, 'Not sure':0.05})\n",
    "\n",
    "df2.Wrapped_Food_Consumption = df2.Wrapped_Food_Consumption.map({'None':0,'1-3':0.39,\t'4-6':0.78,'7 or more':1.57})\n",
    "\n",
    "df2.Diet = df2.Diet.map({'Just vegetables (Vegan diet)':0.19,\n",
    "                         'Vegetables, dairy, eggs (Vegetarian diet)':1.22,\n",
    "                         'Meat included (Non-vegetarian diet)':4.32})\n",
    "\n",
    "df2.Fast_Food_Consumption = df2.Fast_Food_Consumption.map({'Never':0,\n",
    "                                                           'Once a week':0.39,\n",
    "                                                           'Twice a week':0.78,\n",
    "                                                           'More than twice a week':1.57})\n",
    "\n",
    "df2.Transit_To_University = df2.Transit_To_University.map({'By walk or cycle':0,\n",
    "                                                           'By bus':0.14,\n",
    "                                                           'By car':0.29,\n",
    "                                                           'By Metro':0.1})\n",
    "\n",
    "df2.Car_Usage = df2.Car_Usage.map({'Never':0,\n",
    "                                   '5 times':1.73,\n",
    "                                   '10 times':3.45,\n",
    "                                   '15 times':5.18,\n",
    "                                   '16 or more times a week':6.21})"
   ]
  },
  {
   "cell_type": "code",
   "execution_count": null,
   "metadata": {
    "colab": {
     "base_uri": "https://localhost:8080/",
     "height": 487
    },
    "executionInfo": {
     "elapsed": 8,
     "status": "ok",
     "timestamp": 1676777913538,
     "user": {
      "displayName": "Dyuthi Ramesh",
      "userId": "06482101832404421391"
     },
     "user_tz": -330
    },
    "id": "9j71S_zMMr47",
    "outputId": "05c0dabd-e91d-40a1-8d0b-41a0f670700a"
   },
   "outputs": [],
   "source": [
    "df2"
   ]
  },
  {
   "cell_type": "code",
   "execution_count": null,
   "metadata": {
    "colab": {
     "base_uri": "https://localhost:8080/",
     "height": 487
    },
    "executionInfo": {
     "elapsed": 441,
     "status": "ok",
     "timestamp": 1676777916445,
     "user": {
      "displayName": "Dyuthi Ramesh",
      "userId": "06482101832404421391"
     },
     "user_tz": -330
    },
    "id": "uEzjkvR8XJHJ",
    "outputId": "c023b751-7a8d-45cb-9271-ca18aff2a48b"
   },
   "outputs": [],
   "source": [
    "df2['Carbon_Footprint'] = df2.sum(axis='columns')\n",
    "df2"
   ]
  },
  {
   "cell_type": "code",
   "execution_count": null,
   "metadata": {
    "colab": {
     "base_uri": "https://localhost:8080/"
    },
    "executionInfo": {
     "elapsed": 5,
     "status": "ok",
     "timestamp": 1676777919666,
     "user": {
      "displayName": "Dyuthi Ramesh",
      "userId": "06482101832404421391"
     },
     "user_tz": -330
    },
    "id": "4IPhFtyTwzfN",
    "outputId": "07c152f1-34ef-4eed-c138-952fe045a351"
   },
   "outputs": [],
   "source": [
    "df2.info()"
   ]
  },
  {
   "cell_type": "code",
   "execution_count": null,
   "metadata": {
    "colab": {
     "base_uri": "https://localhost:8080/",
     "height": 364
    },
    "executionInfo": {
     "elapsed": 25,
     "status": "ok",
     "timestamp": 1676777922392,
     "user": {
      "displayName": "Dyuthi Ramesh",
      "userId": "06482101832404421391"
     },
     "user_tz": -330
    },
    "id": "YuaWvJLUw2Nu",
    "outputId": "f945ef71-ee13-44e8-81a3-dfcad9183d44"
   },
   "outputs": [],
   "source": [
    "df2.describe()"
   ]
  },
  {
   "cell_type": "code",
   "execution_count": null,
   "metadata": {
    "colab": {
     "base_uri": "https://localhost:8080/"
    },
    "executionInfo": {
     "elapsed": 7,
     "status": "ok",
     "timestamp": 1676777925724,
     "user": {
      "displayName": "Dyuthi Ramesh",
      "userId": "06482101832404421391"
     },
     "user_tz": -330
    },
    "id": "xPnxG9srxRgP",
    "outputId": "6864c81f-1e46-495c-91ec-c2395b691e53"
   },
   "outputs": [],
   "source": [
    "print(\"Mean Carbon Footprint of Data:\",df2.Carbon_Footprint.mean())\n",
    "print(\"Standard Deviation of Carbon Footprint of Data:\",df2.Carbon_Footprint.std())\n",
    "print(\"Minimum Carbon Footprint of Data:\",df2.Carbon_Footprint.min())\n",
    "print(\"Maximum Carbon Footprint of Data:\",df2.Carbon_Footprint.max())"
   ]
  },
  {
   "cell_type": "code",
   "execution_count": null,
   "metadata": {
    "colab": {
     "base_uri": "https://localhost:8080/"
    },
    "executionInfo": {
     "elapsed": 515,
     "status": "ok",
     "timestamp": 1676777929404,
     "user": {
      "displayName": "Dyuthi Ramesh",
      "userId": "06482101832404421391"
     },
     "user_tz": -330
    },
    "id": "3WK2n6M2Xbk3",
    "outputId": "00a521e2-7295-425c-9c1a-7199f18e6124"
   },
   "outputs": [],
   "source": [
    "total = df2.sum()\n",
    "total"
   ]
  },
  {
   "cell_type": "code",
   "execution_count": null,
   "metadata": {
    "colab": {
     "base_uri": "https://localhost:8080/"
    },
    "executionInfo": {
     "elapsed": 441,
     "status": "ok",
     "timestamp": 1676777933200,
     "user": {
      "displayName": "Dyuthi Ramesh",
      "userId": "06482101832404421391"
     },
     "user_tz": -330
    },
    "id": "W-BnMPMX8CtS",
    "outputId": "19d78874-beca-49d8-a48c-c627a7e201ef"
   },
   "outputs": [],
   "source": [
    "data = df2.Carbon_Footprint\n",
    "st.t.interval(alpha=0.95, df=len(data)-1, loc=np.mean(data), scale=st.sem(data)) "
   ]
  },
  {
   "cell_type": "code",
   "execution_count": null,
   "metadata": {
    "colab": {
     "base_uri": "https://localhost:8080/",
     "height": 295
    },
    "executionInfo": {
     "elapsed": 7131,
     "status": "ok",
     "timestamp": 1676783203262,
     "user": {
      "displayName": "Dyuthi Ramesh",
      "userId": "06482101832404421391"
     },
     "user_tz": -330
    },
    "id": "saSrV1E8xxDg",
    "outputId": "46179b56-af7e-453b-b6e4-7fcebeebebe6"
   },
   "outputs": [],
   "source": [
    "x = np.array([i for i in range(0,118)])\n",
    "y = np.array(list(round(df2.Carbon_Footprint,2)))\n",
    "colors = np.array([i for i in range(0,118)])\n",
    "plt.scatter(x, y, c=colors, cmap='viridis')\n",
    "plt.colorbar()\n",
    "plt.title(\"Scatterplot of Carbon Footprint Vs Survey Respondents\")\n",
    "plt.xlabel(\"Survey Respondents\")\n",
    "plt.ylabel(\"Carbon Footprint (in metric tonnes)\")\n",
    "plt.savefig(\"Carbon_Footprint4.png\",dpi=1200,transparent=True)\n",
    "plt.show()"
   ]
  },
  {
   "cell_type": "code",
   "execution_count": null,
   "metadata": {
    "colab": {
     "base_uri": "https://localhost:8080/",
     "height": 282
    },
    "executionInfo": {
     "elapsed": 519,
     "status": "ok",
     "timestamp": 1676778124699,
     "user": {
      "displayName": "Dyuthi Ramesh",
      "userId": "06482101832404421391"
     },
     "user_tz": -330
    },
    "id": "fPJWirw1wSSy",
    "outputId": "aeb0843e-cc75-477c-f90e-c55dbf568b3b"
   },
   "outputs": [],
   "source": [
    "df2.Carbon_Footprint.value_counts()\n",
    "sns.scatterplot(x='Carbon_Footprint',y=df2.Carbon_Footprint.value_counts(),data=df2)"
   ]
  },
  {
   "cell_type": "code",
   "execution_count": null,
   "metadata": {
    "colab": {
     "base_uri": "https://localhost:8080/",
     "height": 282
    },
    "executionInfo": {
     "elapsed": 743,
     "status": "ok",
     "timestamp": 1676777941773,
     "user": {
      "displayName": "Dyuthi Ramesh",
      "userId": "06482101832404421391"
     },
     "user_tz": -330
    },
    "id": "YO-eXHg3B4v2",
    "outputId": "59432161-0f12-4fe7-9d5f-d8c07cc2b33e"
   },
   "outputs": [],
   "source": [
    "df2['Carbon_Footprint'].hist()"
   ]
  },
  {
   "cell_type": "code",
   "execution_count": null,
   "metadata": {
    "colab": {
     "base_uri": "https://localhost:8080/"
    },
    "executionInfo": {
     "elapsed": 421,
     "status": "ok",
     "timestamp": 1676777947328,
     "user": {
      "displayName": "Dyuthi Ramesh",
      "userId": "06482101832404421391"
     },
     "user_tz": -330
    },
    "id": "pI_pafyTQXVh",
    "outputId": "11414ba4-a6c0-4616-a05d-0393487dc310"
   },
   "outputs": [],
   "source": [
    "People_Carbon_Footprint = 1258.73\n",
    "Survey_Respondents = 118\n",
    "Population = 980\n",
    "\n",
    "Electricity_units = 8840+6720\n",
    "Building_Carbon_Footprint = (Electricity_units*0.9*12)/1000\n",
    "print(\"Carbon Footprint of RV University buildings:\",round(Building_Carbon_Footprint,3),\"metric tonnes\")\n",
    "\n",
    "CF_RVU_people = (People_Carbon_Footprint/Survey_Respondents)*Population\n",
    "print(\"Carbon Footprint of RVU population:\",round(CF_RVU_people,3))\n",
    "Total_Carbon_Footprint = CF_RVU_people+Building_Carbon_Footprint\n",
    "print(\"Total Carbon Footprint of RV University:\",round(Total_Carbon_Footprint,3),\"metric tonnes\")\n",
    "\n",
    "India_2016_CF = 2533638100"
   ]
  }
 ],
 "metadata": {
  "colab": {
   "provenance": []
  },
  "kernelspec": {
   "display_name": "Python 3",
   "language": "python",
   "name": "python3"
  },
  "language_info": {
   "codemirror_mode": {
    "name": "ipython",
    "version": 3
   },
   "file_extension": ".py",
   "mimetype": "text/x-python",
   "name": "python",
   "nbconvert_exporter": "python",
   "pygments_lexer": "ipython3",
   "version": "3.8.8"
  }
 },
 "nbformat": 4,
 "nbformat_minor": 1
}
